{
  "nbformat": 4,
  "nbformat_minor": 0,
  "metadata": {
    "colab": {
      "provenance": [],
      "authorship_tag": "ABX9TyPCXUgGeCKFETSCgI0OS1mX",
      "include_colab_link": true
    },
    "kernelspec": {
      "name": "python3",
      "display_name": "Python 3"
    },
    "language_info": {
      "name": "python"
    }
  },
  "cells": [
    {
      "cell_type": "markdown",
      "metadata": {
        "id": "view-in-github",
        "colab_type": "text"
      },
      "source": [
        "<a href=\"https://colab.research.google.com/github/Moon-seok-ho/sw_team_pj/blob/main/ML/keyword_pick.ipynb\" target=\"_parent\"><img src=\"https://colab.research.google.com/assets/colab-badge.svg\" alt=\"Open In Colab\"/></a>"
      ]
    },
    {
      "cell_type": "code",
      "source": [
        "!pip install krwordrank"
      ],
      "metadata": {
        "colab": {
          "base_uri": "https://localhost:8080/"
        },
        "id": "JakR-KW3XqRS",
        "outputId": "a0f2cbea-5ba9-4dae-d82e-c2435731bf81"
      },
      "execution_count": 1,
      "outputs": [
        {
          "output_type": "stream",
          "name": "stdout",
          "text": [
            "Looking in indexes: https://pypi.org/simple, https://us-python.pkg.dev/colab-wheels/public/simple/\n",
            "Collecting krwordrank\n",
            "  Downloading krwordrank-1.0.3-py3-none-any.whl (20 kB)\n",
            "Requirement already satisfied: scipy>=1.4.1 in /usr/local/lib/python3.8/dist-packages (from krwordrank) (1.7.3)\n",
            "Requirement already satisfied: numpy>=1.18.4 in /usr/local/lib/python3.8/dist-packages (from krwordrank) (1.21.6)\n",
            "Requirement already satisfied: scikit-learn>=0.22.1 in /usr/local/lib/python3.8/dist-packages (from krwordrank) (1.0.2)\n",
            "Requirement already satisfied: joblib>=0.11 in /usr/local/lib/python3.8/dist-packages (from scikit-learn>=0.22.1->krwordrank) (1.2.0)\n",
            "Requirement already satisfied: threadpoolctl>=2.0.0 in /usr/local/lib/python3.8/dist-packages (from scikit-learn>=0.22.1->krwordrank) (3.1.0)\n",
            "Installing collected packages: krwordrank\n",
            "Successfully installed krwordrank-1.0.3\n"
          ]
        }
      ]
    },
    {
      "cell_type": "code",
      "source": [
        "from krwordrank.word import KRWordRank\n",
        "\n",
        "min_count = 2   # 단어의 최소 출현 빈도수 (그래프 생성 시)\n",
        "max_length = 10 # 단어의 최대 길이\n",
        "wordrank_extractor = KRWordRank(min_count=min_count, max_length=max_length)"
      ],
      "metadata": {
        "id": "0FN-isHjWOVQ"
      },
      "execution_count": 2,
      "outputs": []
    },
    {
      "cell_type": "code",
      "source": [
        "beta = 0.85    # PageRank의 decaying factor beta\n",
        "max_iter = 10\n",
        "texts = ['면접을 붙어서 첫 출근을 기다리는 시간은 달콤했다 3년 내내 일만 했어서인지 평일 낮에 즐기는 자유시간이 너무 어색해서, 그냥 세상을 다 가진 것 같았다. 인턴을 7개월 내내 열망하고 있었기 때문이다 인턴 언니랑 술을 먹으며 마지막이라 미안하다고 했지만, 첫 출근이 기대됐다. 아빠가 밥은 먹었냐고 점심에 문자 보내시면 속으로는 를 외쳤는데 문자로는 맛있는거 먹었다구 했다. 또한 6시에 기상하며 8시에집에오는 살인적인스케쥴과 일을 따라가기 위해 밀려오는 매일의 스트레스.. 내가 이 6개월을 끝나고 과연 어떤 성취감을 느낄것이며 추후에 내 스펙에 이 활동이 도움이될까? 의문이 들었다. 난 마케터를 꿈꾸기 때문에 대외활동과 동아리도하며 sns도 운영해야하는 멀티플레이어 유망자인데, 그것들을 챙길 시간조차 없는 것도 너무 화났다. 이것도 정말 내 스펙에 관해서 중요한 것들인데? 원하지 않는 일때문에 내가 좋아하고, 원하는 일들을 하지 못한다는 논리가 성립이 되는걸까? 근데도 그 뿐만이였다 내가 잠시괜찮은건 집에도착헤서 8시 ~10시반. 그 이후부터는 내일출근할생각에 고통스럽다. 왜 3개월 끝나고 다른곳에 지원할 생각은 안했는가..? 나는 이 글을 월요일이시작될 답답한 마음에 10월 30일 일요일 새벽 2시에적다가 다시 월요일인 오늘 출근길에 이어서썼다 으악 충무로다..... 가기싫다 ​ 한달이 지난 11월 28일에 다시글을써보겠다 사람이라는건 참으로 신기하다 적응이 되니까 바쁘지도 스트레스받지도 않지만 일이 끊임없이있는건 괴롭다 이제 눈물도 안나지만 진짜 가끔 개혼날때 너무 상처받는다 그치만 가볍게 넘기려고 한다 그리고 나도 업무를 못하는게사실이니까 ​ 다른것도하고싶다.....이걸 어떻게 5개월 더 하지?']\n"
      ],
      "metadata": {
        "id": "1tNM2AFMW7Hx"
      },
      "execution_count": 3,
      "outputs": []
    },
    {
      "cell_type": "code",
      "source": [
        "wordrank_extractor.train?"
      ],
      "metadata": {
        "id": "WOBoduWTaAMH"
      },
      "execution_count": null,
      "outputs": []
    },
    {
      "cell_type": "code",
      "source": [
        "keywords, rank, graph = wordrank_extractor.extract(texts, beta, max_iter)"
      ],
      "metadata": {
        "id": "N0MGpvL3ZLQt"
      },
      "execution_count": 4,
      "outputs": []
    },
    {
      "cell_type": "code",
      "source": [
        "for word, r in sorted(keywords.items(), key=lambda x:x[1], reverse=True)[:30]:\n",
        "        print('%8s:\\t%.4f' % (word, r))"
      ],
      "metadata": {
        "colab": {
          "base_uri": "https://localhost:8080/"
        },
        "id": "3PuWKTO-XyGc",
        "outputId": "792dbf31-885e-4893-946f-5ca3c92087b2"
      },
      "execution_count": 5,
      "outputs": [
        {
          "output_type": "stream",
          "name": "stdout",
          "text": [
            "      내가:\t1.8292\n",
            "      다시:\t1.6061\n",
            "      하지:\t1.5643\n",
            "     끝나고:\t1.4091\n",
            "      출근:\t1.3501\n",
            "      너무:\t1.2018\n",
            "      내내:\t1.1215\n",
            "      스펙:\t1.1008\n",
            "      시간:\t1.0000\n",
            "      원하:\t0.9509\n",
            "      문자:\t0.8333\n",
            "      인턴:\t0.7335\n",
            "    스트레스:\t0.5469\n",
            "      월요:\t0.5389\n",
            "      8시:\t0.5272\n",
            "      때문:\t0.4044\n"
          ]
        }
      ]
    }
  ]
}